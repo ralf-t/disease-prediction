{
 "cells": [
  {
   "cell_type": "markdown",
   "id": "f0bd7235",
   "metadata": {
    "papermill": {
     "duration": 0.008006,
     "end_time": "2022-06-14T00:56:08.468868",
     "exception": false,
     "start_time": "2022-06-14T00:56:08.460862",
     "status": "completed"
    },
    "tags": []
   },
   "source": [
    "**To do:**\n",
    "* quick-and-dirty models"
   ]
  },
  {
   "cell_type": "code",
   "execution_count": 1,
   "id": "d082679b",
   "metadata": {
    "_cell_guid": "b1076dfc-b9ad-4769-8c92-a6c4dae69d19",
    "_uuid": "8f2839f25d086af736a60e9eeb907d3b93b6e0e5",
    "execution": {
     "iopub.execute_input": "2022-06-14T00:56:08.479808Z",
     "iopub.status.busy": "2022-06-14T00:56:08.478381Z",
     "iopub.status.idle": "2022-06-14T00:56:09.787084Z",
     "shell.execute_reply": "2022-06-14T00:56:09.785676Z"
    },
    "papermill": {
     "duration": 1.31749,
     "end_time": "2022-06-14T00:56:09.790511",
     "exception": false,
     "start_time": "2022-06-14T00:56:08.473021",
     "status": "completed"
    },
    "tags": []
   },
   "outputs": [],
   "source": [
    "# This Python 3 environment comes with many helpful analytics libraries installed\n",
    "# It is defined by the kaggle/python Docker image: https://github.com/kaggle/docker-python\n",
    "# For example, here's several helpful packages to load\n",
    "\n",
    "import numpy as np # linear algebra\n",
    "import pandas as pd # data processing, CSV file I/O (e.g. pd.read_csv)\n",
    "from sklearn.model_selection import train_test_split\n",
    "from sklearn.tree import DecisionTreeClassifier\n",
    "\n",
    "# Input data files are available in the read-only \"../input/\" directory\n",
    "# For example, running this (by clicking run or pressing Shift+Enter) will list all files under the input directory\n",
    "\n",
    "# import os\n",
    "# for dirname, _, filenames in os.walk('/kaggle/input'):\n",
    "#     for filename in filenames:\n",
    "#         print(os.path.join(dirname, filename))\n",
    "\n",
    "# You can write up to 20GB to the current directory (/kaggle/working/) that gets preserved as output when you create a version using \"Save & Run All\" \n",
    "# You can also write temporary files to /kaggle/temp/, but they won't be saved outside of the current session"
   ]
  },
  {
   "cell_type": "markdown",
   "id": "a595ae31",
   "metadata": {
    "papermill": {
     "duration": 0.00397,
     "end_time": "2022-06-14T00:56:09.800296",
     "exception": false,
     "start_time": "2022-06-14T00:56:09.796326",
     "status": "completed"
    },
    "tags": []
   },
   "source": [
    "# Explore Data"
   ]
  },
  {
   "cell_type": "code",
   "execution_count": 2,
   "id": "24ab2971",
   "metadata": {
    "execution": {
     "iopub.execute_input": "2022-06-14T00:56:09.810527Z",
     "iopub.status.busy": "2022-06-14T00:56:09.809391Z",
     "iopub.status.idle": "2022-06-14T00:56:10.159743Z",
     "shell.execute_reply": "2022-06-14T00:56:10.158815Z"
    },
    "papermill": {
     "duration": 0.357778,
     "end_time": "2022-06-14T00:56:10.161984",
     "exception": false,
     "start_time": "2022-06-14T00:56:09.804206",
     "status": "completed"
    },
    "tags": []
   },
   "outputs": [
    {
     "data": {
      "text/html": [
       "<div>\n",
       "<style scoped>\n",
       "    .dataframe tbody tr th:only-of-type {\n",
       "        vertical-align: middle;\n",
       "    }\n",
       "\n",
       "    .dataframe tbody tr th {\n",
       "        vertical-align: top;\n",
       "    }\n",
       "\n",
       "    .dataframe thead th {\n",
       "        text-align: right;\n",
       "    }\n",
       "</style>\n",
       "<table border=\"1\" class=\"dataframe\">\n",
       "  <thead>\n",
       "    <tr style=\"text-align: right;\">\n",
       "      <th></th>\n",
       "      <th>itching</th>\n",
       "      <th>skin_rash</th>\n",
       "      <th>nodal_skin_eruptions</th>\n",
       "      <th>continuous_sneezing</th>\n",
       "      <th>shivering</th>\n",
       "      <th>chills</th>\n",
       "      <th>joint_pain</th>\n",
       "      <th>stomach_pain</th>\n",
       "      <th>acidity</th>\n",
       "      <th>ulcers_on_tongue</th>\n",
       "      <th>...</th>\n",
       "      <th>blackheads</th>\n",
       "      <th>scurring</th>\n",
       "      <th>skin_peeling</th>\n",
       "      <th>silver_like_dusting</th>\n",
       "      <th>small_dents_in_nails</th>\n",
       "      <th>inflammatory_nails</th>\n",
       "      <th>blister</th>\n",
       "      <th>red_sore_around_nose</th>\n",
       "      <th>yellow_crust_ooze</th>\n",
       "      <th>Unnamed: 133</th>\n",
       "    </tr>\n",
       "  </thead>\n",
       "  <tbody>\n",
       "    <tr>\n",
       "      <th>count</th>\n",
       "      <td>4920.000000</td>\n",
       "      <td>4920.000000</td>\n",
       "      <td>4920.000000</td>\n",
       "      <td>4920.000000</td>\n",
       "      <td>4920.000000</td>\n",
       "      <td>4920.000000</td>\n",
       "      <td>4920.000000</td>\n",
       "      <td>4920.000000</td>\n",
       "      <td>4920.000000</td>\n",
       "      <td>4920.000000</td>\n",
       "      <td>...</td>\n",
       "      <td>4920.000000</td>\n",
       "      <td>4920.000000</td>\n",
       "      <td>4920.000000</td>\n",
       "      <td>4920.000000</td>\n",
       "      <td>4920.000000</td>\n",
       "      <td>4920.000000</td>\n",
       "      <td>4920.000000</td>\n",
       "      <td>4920.000000</td>\n",
       "      <td>4920.000000</td>\n",
       "      <td>0.0</td>\n",
       "    </tr>\n",
       "    <tr>\n",
       "      <th>mean</th>\n",
       "      <td>0.137805</td>\n",
       "      <td>0.159756</td>\n",
       "      <td>0.021951</td>\n",
       "      <td>0.045122</td>\n",
       "      <td>0.021951</td>\n",
       "      <td>0.162195</td>\n",
       "      <td>0.139024</td>\n",
       "      <td>0.045122</td>\n",
       "      <td>0.045122</td>\n",
       "      <td>0.021951</td>\n",
       "      <td>...</td>\n",
       "      <td>0.021951</td>\n",
       "      <td>0.021951</td>\n",
       "      <td>0.023171</td>\n",
       "      <td>0.023171</td>\n",
       "      <td>0.023171</td>\n",
       "      <td>0.023171</td>\n",
       "      <td>0.023171</td>\n",
       "      <td>0.023171</td>\n",
       "      <td>0.023171</td>\n",
       "      <td>NaN</td>\n",
       "    </tr>\n",
       "    <tr>\n",
       "      <th>std</th>\n",
       "      <td>0.344730</td>\n",
       "      <td>0.366417</td>\n",
       "      <td>0.146539</td>\n",
       "      <td>0.207593</td>\n",
       "      <td>0.146539</td>\n",
       "      <td>0.368667</td>\n",
       "      <td>0.346007</td>\n",
       "      <td>0.207593</td>\n",
       "      <td>0.207593</td>\n",
       "      <td>0.146539</td>\n",
       "      <td>...</td>\n",
       "      <td>0.146539</td>\n",
       "      <td>0.146539</td>\n",
       "      <td>0.150461</td>\n",
       "      <td>0.150461</td>\n",
       "      <td>0.150461</td>\n",
       "      <td>0.150461</td>\n",
       "      <td>0.150461</td>\n",
       "      <td>0.150461</td>\n",
       "      <td>0.150461</td>\n",
       "      <td>NaN</td>\n",
       "    </tr>\n",
       "    <tr>\n",
       "      <th>min</th>\n",
       "      <td>0.000000</td>\n",
       "      <td>0.000000</td>\n",
       "      <td>0.000000</td>\n",
       "      <td>0.000000</td>\n",
       "      <td>0.000000</td>\n",
       "      <td>0.000000</td>\n",
       "      <td>0.000000</td>\n",
       "      <td>0.000000</td>\n",
       "      <td>0.000000</td>\n",
       "      <td>0.000000</td>\n",
       "      <td>...</td>\n",
       "      <td>0.000000</td>\n",
       "      <td>0.000000</td>\n",
       "      <td>0.000000</td>\n",
       "      <td>0.000000</td>\n",
       "      <td>0.000000</td>\n",
       "      <td>0.000000</td>\n",
       "      <td>0.000000</td>\n",
       "      <td>0.000000</td>\n",
       "      <td>0.000000</td>\n",
       "      <td>NaN</td>\n",
       "    </tr>\n",
       "    <tr>\n",
       "      <th>25%</th>\n",
       "      <td>0.000000</td>\n",
       "      <td>0.000000</td>\n",
       "      <td>0.000000</td>\n",
       "      <td>0.000000</td>\n",
       "      <td>0.000000</td>\n",
       "      <td>0.000000</td>\n",
       "      <td>0.000000</td>\n",
       "      <td>0.000000</td>\n",
       "      <td>0.000000</td>\n",
       "      <td>0.000000</td>\n",
       "      <td>...</td>\n",
       "      <td>0.000000</td>\n",
       "      <td>0.000000</td>\n",
       "      <td>0.000000</td>\n",
       "      <td>0.000000</td>\n",
       "      <td>0.000000</td>\n",
       "      <td>0.000000</td>\n",
       "      <td>0.000000</td>\n",
       "      <td>0.000000</td>\n",
       "      <td>0.000000</td>\n",
       "      <td>NaN</td>\n",
       "    </tr>\n",
       "    <tr>\n",
       "      <th>50%</th>\n",
       "      <td>0.000000</td>\n",
       "      <td>0.000000</td>\n",
       "      <td>0.000000</td>\n",
       "      <td>0.000000</td>\n",
       "      <td>0.000000</td>\n",
       "      <td>0.000000</td>\n",
       "      <td>0.000000</td>\n",
       "      <td>0.000000</td>\n",
       "      <td>0.000000</td>\n",
       "      <td>0.000000</td>\n",
       "      <td>...</td>\n",
       "      <td>0.000000</td>\n",
       "      <td>0.000000</td>\n",
       "      <td>0.000000</td>\n",
       "      <td>0.000000</td>\n",
       "      <td>0.000000</td>\n",
       "      <td>0.000000</td>\n",
       "      <td>0.000000</td>\n",
       "      <td>0.000000</td>\n",
       "      <td>0.000000</td>\n",
       "      <td>NaN</td>\n",
       "    </tr>\n",
       "    <tr>\n",
       "      <th>75%</th>\n",
       "      <td>0.000000</td>\n",
       "      <td>0.000000</td>\n",
       "      <td>0.000000</td>\n",
       "      <td>0.000000</td>\n",
       "      <td>0.000000</td>\n",
       "      <td>0.000000</td>\n",
       "      <td>0.000000</td>\n",
       "      <td>0.000000</td>\n",
       "      <td>0.000000</td>\n",
       "      <td>0.000000</td>\n",
       "      <td>...</td>\n",
       "      <td>0.000000</td>\n",
       "      <td>0.000000</td>\n",
       "      <td>0.000000</td>\n",
       "      <td>0.000000</td>\n",
       "      <td>0.000000</td>\n",
       "      <td>0.000000</td>\n",
       "      <td>0.000000</td>\n",
       "      <td>0.000000</td>\n",
       "      <td>0.000000</td>\n",
       "      <td>NaN</td>\n",
       "    </tr>\n",
       "    <tr>\n",
       "      <th>max</th>\n",
       "      <td>1.000000</td>\n",
       "      <td>1.000000</td>\n",
       "      <td>1.000000</td>\n",
       "      <td>1.000000</td>\n",
       "      <td>1.000000</td>\n",
       "      <td>1.000000</td>\n",
       "      <td>1.000000</td>\n",
       "      <td>1.000000</td>\n",
       "      <td>1.000000</td>\n",
       "      <td>1.000000</td>\n",
       "      <td>...</td>\n",
       "      <td>1.000000</td>\n",
       "      <td>1.000000</td>\n",
       "      <td>1.000000</td>\n",
       "      <td>1.000000</td>\n",
       "      <td>1.000000</td>\n",
       "      <td>1.000000</td>\n",
       "      <td>1.000000</td>\n",
       "      <td>1.000000</td>\n",
       "      <td>1.000000</td>\n",
       "      <td>NaN</td>\n",
       "    </tr>\n",
       "  </tbody>\n",
       "</table>\n",
       "<p>8 rows × 133 columns</p>\n",
       "</div>"
      ],
      "text/plain": [
       "           itching    skin_rash  nodal_skin_eruptions  continuous_sneezing  \\\n",
       "count  4920.000000  4920.000000           4920.000000          4920.000000   \n",
       "mean      0.137805     0.159756              0.021951             0.045122   \n",
       "std       0.344730     0.366417              0.146539             0.207593   \n",
       "min       0.000000     0.000000              0.000000             0.000000   \n",
       "25%       0.000000     0.000000              0.000000             0.000000   \n",
       "50%       0.000000     0.000000              0.000000             0.000000   \n",
       "75%       0.000000     0.000000              0.000000             0.000000   \n",
       "max       1.000000     1.000000              1.000000             1.000000   \n",
       "\n",
       "         shivering       chills   joint_pain  stomach_pain      acidity  \\\n",
       "count  4920.000000  4920.000000  4920.000000   4920.000000  4920.000000   \n",
       "mean      0.021951     0.162195     0.139024      0.045122     0.045122   \n",
       "std       0.146539     0.368667     0.346007      0.207593     0.207593   \n",
       "min       0.000000     0.000000     0.000000      0.000000     0.000000   \n",
       "25%       0.000000     0.000000     0.000000      0.000000     0.000000   \n",
       "50%       0.000000     0.000000     0.000000      0.000000     0.000000   \n",
       "75%       0.000000     0.000000     0.000000      0.000000     0.000000   \n",
       "max       1.000000     1.000000     1.000000      1.000000     1.000000   \n",
       "\n",
       "       ulcers_on_tongue  ...   blackheads     scurring  skin_peeling  \\\n",
       "count       4920.000000  ...  4920.000000  4920.000000   4920.000000   \n",
       "mean           0.021951  ...     0.021951     0.021951      0.023171   \n",
       "std            0.146539  ...     0.146539     0.146539      0.150461   \n",
       "min            0.000000  ...     0.000000     0.000000      0.000000   \n",
       "25%            0.000000  ...     0.000000     0.000000      0.000000   \n",
       "50%            0.000000  ...     0.000000     0.000000      0.000000   \n",
       "75%            0.000000  ...     0.000000     0.000000      0.000000   \n",
       "max            1.000000  ...     1.000000     1.000000      1.000000   \n",
       "\n",
       "       silver_like_dusting  small_dents_in_nails  inflammatory_nails  \\\n",
       "count          4920.000000           4920.000000         4920.000000   \n",
       "mean              0.023171              0.023171            0.023171   \n",
       "std               0.150461              0.150461            0.150461   \n",
       "min               0.000000              0.000000            0.000000   \n",
       "25%               0.000000              0.000000            0.000000   \n",
       "50%               0.000000              0.000000            0.000000   \n",
       "75%               0.000000              0.000000            0.000000   \n",
       "max               1.000000              1.000000            1.000000   \n",
       "\n",
       "           blister  red_sore_around_nose  yellow_crust_ooze  Unnamed: 133  \n",
       "count  4920.000000           4920.000000        4920.000000           0.0  \n",
       "mean      0.023171              0.023171           0.023171           NaN  \n",
       "std       0.150461              0.150461           0.150461           NaN  \n",
       "min       0.000000              0.000000           0.000000           NaN  \n",
       "25%       0.000000              0.000000           0.000000           NaN  \n",
       "50%       0.000000              0.000000           0.000000           NaN  \n",
       "75%       0.000000              0.000000           0.000000           NaN  \n",
       "max       1.000000              1.000000           1.000000           NaN  \n",
       "\n",
       "[8 rows x 133 columns]"
      ]
     },
     "execution_count": 2,
     "metadata": {},
     "output_type": "execute_result"
    }
   ],
   "source": [
    "train_ds = pd.read_csv(\"./dataset/Training.csv\")\n",
    "train_ds.describe()"
   ]
  },
  {
   "cell_type": "code",
   "execution_count": 3,
   "id": "44cfd590",
   "metadata": {
    "execution": {
     "iopub.execute_input": "2022-06-14T00:56:10.172454Z",
     "iopub.status.busy": "2022-06-14T00:56:10.172046Z",
     "iopub.status.idle": "2022-06-14T00:56:10.189145Z",
     "shell.execute_reply": "2022-06-14T00:56:10.188116Z"
    },
    "papermill": {
     "duration": 0.024713,
     "end_time": "2022-06-14T00:56:10.191195",
     "exception": false,
     "start_time": "2022-06-14T00:56:10.166482",
     "status": "completed"
    },
    "tags": []
   },
   "outputs": [
    {
     "data": {
      "text/html": [
       "<div>\n",
       "<style scoped>\n",
       "    .dataframe tbody tr th:only-of-type {\n",
       "        vertical-align: middle;\n",
       "    }\n",
       "\n",
       "    .dataframe tbody tr th {\n",
       "        vertical-align: top;\n",
       "    }\n",
       "\n",
       "    .dataframe thead th {\n",
       "        text-align: right;\n",
       "    }\n",
       "</style>\n",
       "<table border=\"1\" class=\"dataframe\">\n",
       "  <thead>\n",
       "    <tr style=\"text-align: right;\">\n",
       "      <th></th>\n",
       "      <th>itching</th>\n",
       "      <th>skin_rash</th>\n",
       "      <th>nodal_skin_eruptions</th>\n",
       "      <th>continuous_sneezing</th>\n",
       "      <th>shivering</th>\n",
       "      <th>chills</th>\n",
       "      <th>joint_pain</th>\n",
       "      <th>stomach_pain</th>\n",
       "      <th>acidity</th>\n",
       "      <th>ulcers_on_tongue</th>\n",
       "      <th>...</th>\n",
       "      <th>scurring</th>\n",
       "      <th>skin_peeling</th>\n",
       "      <th>silver_like_dusting</th>\n",
       "      <th>small_dents_in_nails</th>\n",
       "      <th>inflammatory_nails</th>\n",
       "      <th>blister</th>\n",
       "      <th>red_sore_around_nose</th>\n",
       "      <th>yellow_crust_ooze</th>\n",
       "      <th>prognosis</th>\n",
       "      <th>Unnamed: 133</th>\n",
       "    </tr>\n",
       "  </thead>\n",
       "  <tbody>\n",
       "    <tr>\n",
       "      <th>0</th>\n",
       "      <td>1</td>\n",
       "      <td>1</td>\n",
       "      <td>1</td>\n",
       "      <td>0</td>\n",
       "      <td>0</td>\n",
       "      <td>0</td>\n",
       "      <td>0</td>\n",
       "      <td>0</td>\n",
       "      <td>0</td>\n",
       "      <td>0</td>\n",
       "      <td>...</td>\n",
       "      <td>0</td>\n",
       "      <td>0</td>\n",
       "      <td>0</td>\n",
       "      <td>0</td>\n",
       "      <td>0</td>\n",
       "      <td>0</td>\n",
       "      <td>0</td>\n",
       "      <td>0</td>\n",
       "      <td>Fungal infection</td>\n",
       "      <td>NaN</td>\n",
       "    </tr>\n",
       "    <tr>\n",
       "      <th>1</th>\n",
       "      <td>0</td>\n",
       "      <td>1</td>\n",
       "      <td>1</td>\n",
       "      <td>0</td>\n",
       "      <td>0</td>\n",
       "      <td>0</td>\n",
       "      <td>0</td>\n",
       "      <td>0</td>\n",
       "      <td>0</td>\n",
       "      <td>0</td>\n",
       "      <td>...</td>\n",
       "      <td>0</td>\n",
       "      <td>0</td>\n",
       "      <td>0</td>\n",
       "      <td>0</td>\n",
       "      <td>0</td>\n",
       "      <td>0</td>\n",
       "      <td>0</td>\n",
       "      <td>0</td>\n",
       "      <td>Fungal infection</td>\n",
       "      <td>NaN</td>\n",
       "    </tr>\n",
       "    <tr>\n",
       "      <th>2</th>\n",
       "      <td>1</td>\n",
       "      <td>0</td>\n",
       "      <td>1</td>\n",
       "      <td>0</td>\n",
       "      <td>0</td>\n",
       "      <td>0</td>\n",
       "      <td>0</td>\n",
       "      <td>0</td>\n",
       "      <td>0</td>\n",
       "      <td>0</td>\n",
       "      <td>...</td>\n",
       "      <td>0</td>\n",
       "      <td>0</td>\n",
       "      <td>0</td>\n",
       "      <td>0</td>\n",
       "      <td>0</td>\n",
       "      <td>0</td>\n",
       "      <td>0</td>\n",
       "      <td>0</td>\n",
       "      <td>Fungal infection</td>\n",
       "      <td>NaN</td>\n",
       "    </tr>\n",
       "    <tr>\n",
       "      <th>3</th>\n",
       "      <td>1</td>\n",
       "      <td>1</td>\n",
       "      <td>0</td>\n",
       "      <td>0</td>\n",
       "      <td>0</td>\n",
       "      <td>0</td>\n",
       "      <td>0</td>\n",
       "      <td>0</td>\n",
       "      <td>0</td>\n",
       "      <td>0</td>\n",
       "      <td>...</td>\n",
       "      <td>0</td>\n",
       "      <td>0</td>\n",
       "      <td>0</td>\n",
       "      <td>0</td>\n",
       "      <td>0</td>\n",
       "      <td>0</td>\n",
       "      <td>0</td>\n",
       "      <td>0</td>\n",
       "      <td>Fungal infection</td>\n",
       "      <td>NaN</td>\n",
       "    </tr>\n",
       "    <tr>\n",
       "      <th>4</th>\n",
       "      <td>1</td>\n",
       "      <td>1</td>\n",
       "      <td>1</td>\n",
       "      <td>0</td>\n",
       "      <td>0</td>\n",
       "      <td>0</td>\n",
       "      <td>0</td>\n",
       "      <td>0</td>\n",
       "      <td>0</td>\n",
       "      <td>0</td>\n",
       "      <td>...</td>\n",
       "      <td>0</td>\n",
       "      <td>0</td>\n",
       "      <td>0</td>\n",
       "      <td>0</td>\n",
       "      <td>0</td>\n",
       "      <td>0</td>\n",
       "      <td>0</td>\n",
       "      <td>0</td>\n",
       "      <td>Fungal infection</td>\n",
       "      <td>NaN</td>\n",
       "    </tr>\n",
       "  </tbody>\n",
       "</table>\n",
       "<p>5 rows × 134 columns</p>\n",
       "</div>"
      ],
      "text/plain": [
       "   itching  skin_rash  nodal_skin_eruptions  continuous_sneezing  shivering  \\\n",
       "0        1          1                     1                    0          0   \n",
       "1        0          1                     1                    0          0   \n",
       "2        1          0                     1                    0          0   \n",
       "3        1          1                     0                    0          0   \n",
       "4        1          1                     1                    0          0   \n",
       "\n",
       "   chills  joint_pain  stomach_pain  acidity  ulcers_on_tongue  ...  scurring  \\\n",
       "0       0           0             0        0                 0  ...         0   \n",
       "1       0           0             0        0                 0  ...         0   \n",
       "2       0           0             0        0                 0  ...         0   \n",
       "3       0           0             0        0                 0  ...         0   \n",
       "4       0           0             0        0                 0  ...         0   \n",
       "\n",
       "   skin_peeling  silver_like_dusting  small_dents_in_nails  \\\n",
       "0             0                    0                     0   \n",
       "1             0                    0                     0   \n",
       "2             0                    0                     0   \n",
       "3             0                    0                     0   \n",
       "4             0                    0                     0   \n",
       "\n",
       "   inflammatory_nails  blister  red_sore_around_nose  yellow_crust_ooze  \\\n",
       "0                   0        0                     0                  0   \n",
       "1                   0        0                     0                  0   \n",
       "2                   0        0                     0                  0   \n",
       "3                   0        0                     0                  0   \n",
       "4                   0        0                     0                  0   \n",
       "\n",
       "          prognosis  Unnamed: 133  \n",
       "0  Fungal infection           NaN  \n",
       "1  Fungal infection           NaN  \n",
       "2  Fungal infection           NaN  \n",
       "3  Fungal infection           NaN  \n",
       "4  Fungal infection           NaN  \n",
       "\n",
       "[5 rows x 134 columns]"
      ]
     },
     "execution_count": 3,
     "metadata": {},
     "output_type": "execute_result"
    }
   ],
   "source": [
    "train_ds.head()"
   ]
  },
  {
   "cell_type": "markdown",
   "id": "407e9b4a",
   "metadata": {
    "papermill": {
     "duration": 0.004358,
     "end_time": "2022-06-14T00:56:10.200366",
     "exception": false,
     "start_time": "2022-06-14T00:56:10.196008",
     "status": "completed"
    },
    "tags": []
   },
   "source": [
    "## Drop nulls"
   ]
  },
  {
   "cell_type": "code",
   "execution_count": 4,
   "id": "90480b4e",
   "metadata": {
    "execution": {
     "iopub.execute_input": "2022-06-14T00:56:10.211470Z",
     "iopub.status.busy": "2022-06-14T00:56:10.211027Z",
     "iopub.status.idle": "2022-06-14T00:56:10.221893Z",
     "shell.execute_reply": "2022-06-14T00:56:10.220810Z"
    },
    "papermill": {
     "duration": 0.019081,
     "end_time": "2022-06-14T00:56:10.224055",
     "exception": false,
     "start_time": "2022-06-14T00:56:10.204974",
     "status": "completed"
    },
    "tags": []
   },
   "outputs": [
    {
     "data": {
      "text/plain": [
       "itching                 False\n",
       "skin_rash               False\n",
       "nodal_skin_eruptions    False\n",
       "continuous_sneezing     False\n",
       "shivering               False\n",
       "                        ...  \n",
       "blister                 False\n",
       "red_sore_around_nose    False\n",
       "yellow_crust_ooze       False\n",
       "prognosis               False\n",
       "Unnamed: 133             True\n",
       "Length: 134, dtype: bool"
      ]
     },
     "execution_count": 4,
     "metadata": {},
     "output_type": "execute_result"
    }
   ],
   "source": [
    "# Find nulls\n",
    "train_ds.isnull().any()"
   ]
  },
  {
   "cell_type": "code",
   "execution_count": 5,
   "id": "5e5723c8",
   "metadata": {
    "execution": {
     "iopub.execute_input": "2022-06-14T00:56:10.235749Z",
     "iopub.status.busy": "2022-06-14T00:56:10.235383Z",
     "iopub.status.idle": "2022-06-14T00:56:10.244532Z",
     "shell.execute_reply": "2022-06-14T00:56:10.243513Z"
    },
    "papermill": {
     "duration": 0.01721,
     "end_time": "2022-06-14T00:56:10.246356",
     "exception": false,
     "start_time": "2022-06-14T00:56:10.229146",
     "status": "completed"
    },
    "tags": []
   },
   "outputs": [],
   "source": [
    "# Drop null\n",
    "# axis=1 -> by column\n",
    "# inplace=True -> modify dataframe directly\n",
    "\n",
    "train_ds.drop([\"Unnamed: 133\"], axis=1, inplace=True)"
   ]
  },
  {
   "cell_type": "code",
   "execution_count": 6,
   "id": "844c4a92",
   "metadata": {
    "execution": {
     "iopub.execute_input": "2022-06-14T00:56:10.258127Z",
     "iopub.status.busy": "2022-06-14T00:56:10.257271Z",
     "iopub.status.idle": "2022-06-14T00:56:10.263068Z",
     "shell.execute_reply": "2022-06-14T00:56:10.262287Z"
    },
    "papermill": {
     "duration": 0.013491,
     "end_time": "2022-06-14T00:56:10.264906",
     "exception": false,
     "start_time": "2022-06-14T00:56:10.251415",
     "status": "completed"
    },
    "tags": []
   },
   "outputs": [
    {
     "data": {
      "text/plain": [
       "Index(['itching', 'skin_rash', 'nodal_skin_eruptions', 'continuous_sneezing',\n",
       "       'shivering', 'chills', 'joint_pain', 'stomach_pain', 'acidity',\n",
       "       'ulcers_on_tongue',\n",
       "       ...\n",
       "       'blackheads', 'scurring', 'skin_peeling', 'silver_like_dusting',\n",
       "       'small_dents_in_nails', 'inflammatory_nails', 'blister',\n",
       "       'red_sore_around_nose', 'yellow_crust_ooze', 'prognosis'],\n",
       "      dtype='object', length=133)"
      ]
     },
     "execution_count": 6,
     "metadata": {},
     "output_type": "execute_result"
    }
   ],
   "source": [
    "train_ds.columns"
   ]
  },
  {
   "cell_type": "markdown",
   "id": "8e750977",
   "metadata": {
    "papermill": {
     "duration": 0.004526,
     "end_time": "2022-06-14T00:56:10.274239",
     "exception": false,
     "start_time": "2022-06-14T00:56:10.269713",
     "status": "completed"
    },
    "tags": []
   },
   "source": [
    "# Splitting dataset"
   ]
  },
  {
   "cell_type": "code",
   "execution_count": 7,
   "id": "9be2fc24",
   "metadata": {
    "execution": {
     "iopub.execute_input": "2022-06-14T00:56:10.284977Z",
     "iopub.status.busy": "2022-06-14T00:56:10.284582Z",
     "iopub.status.idle": "2022-06-14T00:56:10.305076Z",
     "shell.execute_reply": "2022-06-14T00:56:10.304017Z"
    },
    "papermill": {
     "duration": 0.028484,
     "end_time": "2022-06-14T00:56:10.307201",
     "exception": false,
     "start_time": "2022-06-14T00:56:10.278717",
     "status": "completed"
    },
    "tags": []
   },
   "outputs": [],
   "source": [
    "X = train_ds.drop(\"prognosis\", axis=1)\n",
    "y = train_ds[\"prognosis\"]\n",
    "\n",
    "X_train, X_test, y_train, y_test = train_test_split(X, y, test_size=0.3, random_state=42)"
   ]
  },
  {
   "cell_type": "markdown",
   "id": "8ad9e78f",
   "metadata": {
    "papermill": {
     "duration": 0.004388,
     "end_time": "2022-06-14T00:56:10.316346",
     "exception": false,
     "start_time": "2022-06-14T00:56:10.311958",
     "status": "completed"
    },
    "tags": []
   },
   "source": [
    "# Training the model"
   ]
  },
  {
   "cell_type": "code",
   "execution_count": 8,
   "id": "c6c38ac0",
   "metadata": {
    "execution": {
     "iopub.execute_input": "2022-06-14T00:56:10.327309Z",
     "iopub.status.busy": "2022-06-14T00:56:10.326883Z",
     "iopub.status.idle": "2022-06-14T00:56:10.371755Z",
     "shell.execute_reply": "2022-06-14T00:56:10.370714Z"
    },
    "papermill": {
     "duration": 0.053538,
     "end_time": "2022-06-14T00:56:10.374470",
     "exception": false,
     "start_time": "2022-06-14T00:56:10.320932",
     "status": "completed"
    },
    "tags": []
   },
   "outputs": [],
   "source": [
    "clf = DecisionTreeClassifier()\n",
    "clf = clf.fit(X_train, y_train)"
   ]
  },
  {
   "cell_type": "markdown",
   "id": "612d3a1c",
   "metadata": {
    "papermill": {
     "duration": 0.004343,
     "end_time": "2022-06-14T00:56:10.383541",
     "exception": false,
     "start_time": "2022-06-14T00:56:10.379198",
     "status": "completed"
    },
    "tags": []
   },
   "source": [
    "## Model performance"
   ]
  },
  {
   "cell_type": "code",
   "execution_count": 9,
   "id": "edf278e9",
   "metadata": {
    "execution": {
     "iopub.execute_input": "2022-06-14T00:56:10.394519Z",
     "iopub.status.busy": "2022-06-14T00:56:10.393709Z",
     "iopub.status.idle": "2022-06-14T00:56:10.412391Z",
     "shell.execute_reply": "2022-06-14T00:56:10.411433Z"
    },
    "papermill": {
     "duration": 0.026662,
     "end_time": "2022-06-14T00:56:10.414719",
     "exception": false,
     "start_time": "2022-06-14T00:56:10.388057",
     "status": "completed"
    },
    "tags": []
   },
   "outputs": [],
   "source": [
    "acc_train = clf.score(X_train, y_train) \n",
    "acc_test = clf.score(X_test, y_test)"
   ]
  },
  {
   "cell_type": "code",
   "execution_count": 10,
   "id": "7372c5af",
   "metadata": {
    "execution": {
     "iopub.execute_input": "2022-06-14T00:56:10.425636Z",
     "iopub.status.busy": "2022-06-14T00:56:10.425272Z",
     "iopub.status.idle": "2022-06-14T00:56:10.430509Z",
     "shell.execute_reply": "2022-06-14T00:56:10.429611Z"
    },
    "papermill": {
     "duration": 0.013074,
     "end_time": "2022-06-14T00:56:10.432618",
     "exception": false,
     "start_time": "2022-06-14T00:56:10.419544",
     "status": "completed"
    },
    "tags": []
   },
   "outputs": [
    {
     "name": "stdout",
     "output_type": "stream",
     "text": [
      "Train set accuracy: 100.0\n",
      "Test set accuracy: 100.0\n"
     ]
    }
   ],
   "source": [
    "print(f\"Train set accuracy: {acc_train*100}\")\n",
    "print(f\"Test set accuracy: {acc_test*100}\")"
   ]
  },
  {
   "cell_type": "markdown",
   "id": "e55c4e4c",
   "metadata": {
    "papermill": {
     "duration": 0.004271,
     "end_time": "2022-06-14T00:56:10.441508",
     "exception": false,
     "start_time": "2022-06-14T00:56:10.437237",
     "status": "completed"
    },
    "tags": []
   },
   "source": [
    "## Test set recall score"
   ]
  },
  {
   "cell_type": "code",
   "execution_count": 11,
   "id": "334bbff0",
   "metadata": {
    "execution": {
     "iopub.execute_input": "2022-06-14T00:56:10.451844Z",
     "iopub.status.busy": "2022-06-14T00:56:10.451491Z",
     "iopub.status.idle": "2022-06-14T00:56:10.472349Z",
     "shell.execute_reply": "2022-06-14T00:56:10.471190Z"
    },
    "papermill": {
     "duration": 0.02845,
     "end_time": "2022-06-14T00:56:10.474389",
     "exception": false,
     "start_time": "2022-06-14T00:56:10.445939",
     "status": "completed"
    },
    "tags": []
   },
   "outputs": [
    {
     "data": {
      "text/plain": [
       "array([1., 1., 1., 1., 1., 1., 1., 1., 1., 1., 1., 1., 1., 1., 1., 1., 1.,\n",
       "       1., 1., 1., 1., 1., 1., 1., 1., 1., 1., 1., 1., 1., 1., 1., 1., 1.,\n",
       "       1., 1., 1., 1., 1., 1., 1.])"
      ]
     },
     "execution_count": 11,
     "metadata": {},
     "output_type": "execute_result"
    }
   ],
   "source": [
    "from sklearn.metrics import recall_score\n",
    "\n",
    "pred_test = clf.predict(X_test)\n",
    "recall_score(y_test, pred_test, average=None)"
   ]
  },
  {
   "cell_type": "markdown",
   "id": "41fb00a1",
   "metadata": {},
   "source": [
    "## Precautions dataset"
   ]
  },
  {
   "cell_type": "code",
   "execution_count": 12,
   "id": "85b4e1b9",
   "metadata": {
    "papermill": {
     "duration": 0.004689,
     "end_time": "2022-06-14T00:56:10.484158",
     "exception": false,
     "start_time": "2022-06-14T00:56:10.479469",
     "status": "completed"
    },
    "tags": []
   },
   "outputs": [
    {
     "data": {
      "text/html": [
       "<div>\n",
       "<style scoped>\n",
       "    .dataframe tbody tr th:only-of-type {\n",
       "        vertical-align: middle;\n",
       "    }\n",
       "\n",
       "    .dataframe tbody tr th {\n",
       "        vertical-align: top;\n",
       "    }\n",
       "\n",
       "    .dataframe thead th {\n",
       "        text-align: right;\n",
       "    }\n",
       "</style>\n",
       "<table border=\"1\" class=\"dataframe\">\n",
       "  <thead>\n",
       "    <tr style=\"text-align: right;\">\n",
       "      <th></th>\n",
       "      <th>Disease</th>\n",
       "      <th>Precaution_1</th>\n",
       "      <th>Precaution_2</th>\n",
       "      <th>Precaution_3</th>\n",
       "      <th>Precaution_4</th>\n",
       "    </tr>\n",
       "  </thead>\n",
       "  <tbody>\n",
       "    <tr>\n",
       "      <th>0</th>\n",
       "      <td>Drug Reaction</td>\n",
       "      <td>stop irritation</td>\n",
       "      <td>consult nearest hospital</td>\n",
       "      <td>stop taking drug</td>\n",
       "      <td>follow up</td>\n",
       "    </tr>\n",
       "    <tr>\n",
       "      <th>1</th>\n",
       "      <td>Malaria</td>\n",
       "      <td>Consult nearest hospital</td>\n",
       "      <td>avoid oily food</td>\n",
       "      <td>avoid non veg food</td>\n",
       "      <td>keep mosquitos out</td>\n",
       "    </tr>\n",
       "    <tr>\n",
       "      <th>2</th>\n",
       "      <td>Allergy</td>\n",
       "      <td>apply calamine</td>\n",
       "      <td>cover area with bandage</td>\n",
       "      <td>NaN</td>\n",
       "      <td>use ice to compress itching</td>\n",
       "    </tr>\n",
       "    <tr>\n",
       "      <th>3</th>\n",
       "      <td>Hypothyroidism</td>\n",
       "      <td>reduce stress</td>\n",
       "      <td>exercise</td>\n",
       "      <td>eat healthy</td>\n",
       "      <td>get proper sleep</td>\n",
       "    </tr>\n",
       "    <tr>\n",
       "      <th>4</th>\n",
       "      <td>Psoriasis</td>\n",
       "      <td>wash hands with warm soapy water</td>\n",
       "      <td>stop bleeding using pressure</td>\n",
       "      <td>consult doctor</td>\n",
       "      <td>salt baths</td>\n",
       "    </tr>\n",
       "  </tbody>\n",
       "</table>\n",
       "</div>"
      ],
      "text/plain": [
       "          Disease                      Precaution_1  \\\n",
       "0   Drug Reaction                   stop irritation   \n",
       "1         Malaria          Consult nearest hospital   \n",
       "2         Allergy                    apply calamine   \n",
       "3  Hypothyroidism                     reduce stress   \n",
       "4       Psoriasis  wash hands with warm soapy water   \n",
       "\n",
       "                   Precaution_2        Precaution_3  \\\n",
       "0      consult nearest hospital    stop taking drug   \n",
       "1               avoid oily food  avoid non veg food   \n",
       "2       cover area with bandage                 NaN   \n",
       "3                      exercise         eat healthy   \n",
       "4  stop bleeding using pressure      consult doctor   \n",
       "\n",
       "                  Precaution_4  \n",
       "0                    follow up  \n",
       "1           keep mosquitos out  \n",
       "2  use ice to compress itching  \n",
       "3             get proper sleep  \n",
       "4                   salt baths  "
      ]
     },
     "execution_count": 12,
     "metadata": {},
     "output_type": "execute_result"
    }
   ],
   "source": [
    "precaution_ds = pd.read_csv(\"./dataset/symptom_precaution.csv\")\n",
    "precaution_ds.head()"
   ]
  },
  {
   "cell_type": "markdown",
   "id": "cfa72e3a",
   "metadata": {},
   "source": [
    "## Disease descriptions dataset"
   ]
  },
  {
   "cell_type": "code",
   "execution_count": 65,
   "id": "ed25f177",
   "metadata": {},
   "outputs": [
    {
     "data": {
      "text/html": [
       "<div>\n",
       "<style scoped>\n",
       "    .dataframe tbody tr th:only-of-type {\n",
       "        vertical-align: middle;\n",
       "    }\n",
       "\n",
       "    .dataframe tbody tr th {\n",
       "        vertical-align: top;\n",
       "    }\n",
       "\n",
       "    .dataframe thead th {\n",
       "        text-align: right;\n",
       "    }\n",
       "</style>\n",
       "<table border=\"1\" class=\"dataframe\">\n",
       "  <thead>\n",
       "    <tr style=\"text-align: right;\">\n",
       "      <th></th>\n",
       "      <th>Disease</th>\n",
       "      <th>Description</th>\n",
       "    </tr>\n",
       "  </thead>\n",
       "  <tbody>\n",
       "    <tr>\n",
       "      <th>0</th>\n",
       "      <td>Drug Reaction</td>\n",
       "      <td>An adverse drug reaction (ADR) is an injury ca...</td>\n",
       "    </tr>\n",
       "    <tr>\n",
       "      <th>1</th>\n",
       "      <td>Malaria</td>\n",
       "      <td>An infectious disease caused by protozoan para...</td>\n",
       "    </tr>\n",
       "    <tr>\n",
       "      <th>2</th>\n",
       "      <td>Allergy</td>\n",
       "      <td>An allergy is an immune system response to a f...</td>\n",
       "    </tr>\n",
       "    <tr>\n",
       "      <th>3</th>\n",
       "      <td>Hypothyroidism</td>\n",
       "      <td>Hypothyroidism, also called underactive thyroi...</td>\n",
       "    </tr>\n",
       "    <tr>\n",
       "      <th>4</th>\n",
       "      <td>Psoriasis</td>\n",
       "      <td>Psoriasis is a common skin disorder that forms...</td>\n",
       "    </tr>\n",
       "  </tbody>\n",
       "</table>\n",
       "</div>"
      ],
      "text/plain": [
       "          Disease                                        Description\n",
       "0   Drug Reaction  An adverse drug reaction (ADR) is an injury ca...\n",
       "1         Malaria  An infectious disease caused by protozoan para...\n",
       "2         Allergy  An allergy is an immune system response to a f...\n",
       "3  Hypothyroidism  Hypothyroidism, also called underactive thyroi...\n",
       "4       Psoriasis  Psoriasis is a common skin disorder that forms..."
      ]
     },
     "execution_count": 65,
     "metadata": {},
     "output_type": "execute_result"
    }
   ],
   "source": [
    "description_ds = pd.read_csv(\"./dataset/symptom_description.csv\")\n",
    "description_ds.head()"
   ]
  },
  {
   "cell_type": "markdown",
   "id": "1d4d3ace",
   "metadata": {},
   "source": [
    "## Sample input "
   ]
  },
  {
   "cell_type": "code",
   "execution_count": 35,
   "id": "9a11368d",
   "metadata": {},
   "outputs": [],
   "source": [
    "columns = X_test.columns\n",
    "sample_input = pd.DataFrame(np.random.randint(2, size=132).reshape(1,-1), columns=columns)"
   ]
  },
  {
   "cell_type": "code",
   "execution_count": 36,
   "id": "61338720",
   "metadata": {
    "scrolled": true
   },
   "outputs": [
    {
     "data": {
      "text/html": [
       "<div>\n",
       "<style scoped>\n",
       "    .dataframe tbody tr th:only-of-type {\n",
       "        vertical-align: middle;\n",
       "    }\n",
       "\n",
       "    .dataframe tbody tr th {\n",
       "        vertical-align: top;\n",
       "    }\n",
       "\n",
       "    .dataframe thead th {\n",
       "        text-align: right;\n",
       "    }\n",
       "</style>\n",
       "<table border=\"1\" class=\"dataframe\">\n",
       "  <thead>\n",
       "    <tr style=\"text-align: right;\">\n",
       "      <th></th>\n",
       "      <th>itching</th>\n",
       "      <th>skin_rash</th>\n",
       "      <th>nodal_skin_eruptions</th>\n",
       "      <th>continuous_sneezing</th>\n",
       "      <th>shivering</th>\n",
       "      <th>chills</th>\n",
       "      <th>joint_pain</th>\n",
       "      <th>stomach_pain</th>\n",
       "      <th>acidity</th>\n",
       "      <th>ulcers_on_tongue</th>\n",
       "      <th>...</th>\n",
       "      <th>pus_filled_pimples</th>\n",
       "      <th>blackheads</th>\n",
       "      <th>scurring</th>\n",
       "      <th>skin_peeling</th>\n",
       "      <th>silver_like_dusting</th>\n",
       "      <th>small_dents_in_nails</th>\n",
       "      <th>inflammatory_nails</th>\n",
       "      <th>blister</th>\n",
       "      <th>red_sore_around_nose</th>\n",
       "      <th>yellow_crust_ooze</th>\n",
       "    </tr>\n",
       "  </thead>\n",
       "  <tbody>\n",
       "    <tr>\n",
       "      <th>0</th>\n",
       "      <td>0</td>\n",
       "      <td>0</td>\n",
       "      <td>1</td>\n",
       "      <td>0</td>\n",
       "      <td>0</td>\n",
       "      <td>0</td>\n",
       "      <td>1</td>\n",
       "      <td>0</td>\n",
       "      <td>0</td>\n",
       "      <td>0</td>\n",
       "      <td>...</td>\n",
       "      <td>1</td>\n",
       "      <td>0</td>\n",
       "      <td>0</td>\n",
       "      <td>1</td>\n",
       "      <td>0</td>\n",
       "      <td>1</td>\n",
       "      <td>1</td>\n",
       "      <td>1</td>\n",
       "      <td>0</td>\n",
       "      <td>0</td>\n",
       "    </tr>\n",
       "  </tbody>\n",
       "</table>\n",
       "<p>1 rows × 132 columns</p>\n",
       "</div>"
      ],
      "text/plain": [
       "   itching  skin_rash  nodal_skin_eruptions  continuous_sneezing  shivering  \\\n",
       "0        0          0                     1                    0          0   \n",
       "\n",
       "   chills  joint_pain  stomach_pain  acidity  ulcers_on_tongue  ...  \\\n",
       "0       0           1             0        0                 0  ...   \n",
       "\n",
       "   pus_filled_pimples  blackheads  scurring  skin_peeling  \\\n",
       "0                   1           0         0             1   \n",
       "\n",
       "   silver_like_dusting  small_dents_in_nails  inflammatory_nails  blister  \\\n",
       "0                    0                     1                   1        1   \n",
       "\n",
       "   red_sore_around_nose  yellow_crust_ooze  \n",
       "0                     0                  0  \n",
       "\n",
       "[1 rows x 132 columns]"
      ]
     },
     "execution_count": 36,
     "metadata": {},
     "output_type": "execute_result"
    }
   ],
   "source": [
    "sample_input"
   ]
  },
  {
   "cell_type": "code",
   "execution_count": 75,
   "id": "8ce37e48",
   "metadata": {},
   "outputs": [],
   "source": [
    "predicted_disease = clf.predict(sample_input)[0]\n",
    "\n",
    "precautions = precaution_ds.loc[precaution_ds['Disease'] == predicted_disease]\n",
    "description = description_ds.loc[description_ds['Disease'] == predicted_disease]['Description'].item()"
   ]
  },
  {
   "cell_type": "code",
   "execution_count": 77,
   "id": "d2cd1843",
   "metadata": {},
   "outputs": [
    {
     "name": "stdout",
     "output_type": "stream",
     "text": [
      "Common Cold\n",
      "The common cold is a viral infection of your nose and throat (upper respiratory tract). It's usually harmless, although it might not feel that way. Many types of viruses can cause a common cold.\n",
      "\n",
      "Please follow the precautions:\n",
      "drink vitamin c rich drinks\n",
      "take vapour\n",
      "avoid cold food\n",
      "keep fever in check\n"
     ]
    }
   ],
   "source": [
    "print(f\"{predicted_disease}\\n{description}\\n\")\n",
    "print(\"Please follow the precautions:\")\n",
    "\n",
    "for index, row in precautions.iterrows():\n",
    "    for r in row[1:]:\n",
    "        print(r)"
   ]
  }
 ],
 "metadata": {
  "kernelspec": {
   "display_name": "Python 3 (ipykernel)",
   "language": "python",
   "name": "python3"
  },
  "language_info": {
   "codemirror_mode": {
    "name": "ipython",
    "version": 3
   },
   "file_extension": ".py",
   "mimetype": "text/x-python",
   "name": "python",
   "nbconvert_exporter": "python",
   "pygments_lexer": "ipython3",
   "version": "3.10.4"
  },
  "papermill": {
   "default_parameters": {},
   "duration": 11.812842,
   "end_time": "2022-06-14T00:56:11.314832",
   "environment_variables": {},
   "exception": null,
   "input_path": "__notebook__.ipynb",
   "output_path": "__notebook__.ipynb",
   "parameters": {},
   "start_time": "2022-06-14T00:55:59.501990",
   "version": "2.3.4"
  }
 },
 "nbformat": 4,
 "nbformat_minor": 5
}
